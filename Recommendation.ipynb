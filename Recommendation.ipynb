{
 "cells": [
  {
   "cell_type": "code",
   "execution_count": 3,
   "id": "99f5db33",
   "metadata": {},
   "outputs": [],
   "source": [
    "import pandas as pd\n",
    "import numpy as np\n",
    "import sklearn\n",
    "import sklearn.cluster\n",
    "import warnings\n",
    "warnings.filterwarnings('ignore')\n",
    "import matplotlib.pyplot as plt\n",
    "import random\n",
    "from ciu import determine_ciu\n",
    "import six\n",
    "import sys\n",
    "import os\n",
    "sys.modules['sklearn.externals.six'] = six\n",
    "from skrules import SkopeRules\n",
    "import openml\n",
    "from sklearn.impute import SimpleImputer\n",
    "from sklearn.model_selection import cross_val_score, train_test_split\n",
    "from sklearn.preprocessing import LabelEncoder\n",
    "from scipy.sparse import csr_matrix\n",
    "from sklearn.model_selection import train_test_split\n",
    "from sklearn.ensemble import RandomForestClassifier\n",
    "from sklearn.metrics import classification_report\n"
   ]
  },
  {
   "cell_type": "code",
   "execution_count": 4,
   "id": "c77d04db",
   "metadata": {
    "scrolled": true
   },
   "outputs": [],
   "source": [
    "df_meta = pd.read_csv('metadata_merged.csv', index_col=0)\n",
    "df_meta=df_meta.drop(columns= 'best_technique')\n",
    "\n",
    "df_lime=pd.read_csv('records_lime.csv', index_col=0).drop(columns = 'lime_Dataset')\n",
    "df_ciu=pd.read_csv('records_ciu.csv', index_col=0).drop(columns = 'ciu_Dataset')\n",
    "df_anchor=pd.read_csv('records_anchor.csv', index_col=0).drop(columns = 'anchor_Dataset')"
   ]
  },
  {
   "cell_type": "code",
   "execution_count": 5,
   "id": "d2019fb0",
   "metadata": {
    "scrolled": true
   },
   "outputs": [
    {
     "name": "stdout",
     "output_type": "stream",
     "text": [
      "              precision    recall  f1-score   support\n",
      "\n",
      "         ciu       0.20      0.33      0.25         3\n",
      "        lime       0.33      0.20      0.25         5\n",
      "\n",
      "    accuracy                           0.25         8\n",
      "   macro avg       0.27      0.27      0.25         8\n",
      "weighted avg       0.28      0.25      0.25         8\n",
      "\n"
     ]
    }
   ],
   "source": [
    "import pandas as pd\n",
    "\n",
    "df_meta = pd.read_csv('metadata_merged.csv', index_col=0)\n",
    "df_meta=df_meta.drop(columns= 'best_technique')\n",
    "\n",
    "df_lime = pd.read_csv('records_lime.csv', index_col=0).drop(columns='lime_Dataset')\n",
    "df_ciu = pd.read_csv('records_ciu.csv', index_col=0).drop(columns='ciu_Dataset')\n",
    "df_anchor = pd.read_csv('records_anchor.csv', index_col=0).drop(columns='anchor_Dataset')\n",
    "\n",
    "merged_df = df_lime.merge(df_ciu, on='folder').merge(df_anchor, on='folder')\n",
    "\n",
    "criteria = ['Fidelity', 'Identity']\n",
    "criteria_inverse = ['Separability', 'Speed']    \n",
    "\n",
    "def assign_scores(row, crit, ascending=True):\n",
    "    values = [row['lime_' + crit], row['ciu_' + crit], row['anchor_' + crit]]\n",
    "    scores = pd.Series(values).rank(ascending=ascending, method='dense')\n",
    "    return scores.values\n",
    "\n",
    "for crit in criteria:\n",
    "    scores = merged_df.apply(assign_scores, axis=1, args=(crit, False))\n",
    "    merged_df[['lime_' + crit + '_score', 'ciu_' + crit + '_score', 'anchor_' + crit + '_score']] = pd.DataFrame(scores.tolist(), index=merged_df.index)\n",
    "\n",
    "for crit in criteria_inverse:\n",
    "    scores = merged_df.apply(assign_scores, axis=1, args=(crit, True))\n",
    "    merged_df[['lime_' + crit + '_score', 'ciu_' + crit + '_score', 'anchor_' + crit + '_score']] = pd.DataFrame(scores.tolist(), index=merged_df.index)\n",
    "\n",
    "score_columns = [col for col in merged_df.columns if 'score' in col]\n",
    "merged_df['lime'] = merged_df[[col for col in score_columns if 'lime' in col]].sum(axis=1)\n",
    "merged_df['ciu'] = merged_df[[col for col in score_columns if 'ciu' in col]].sum(axis=1)\n",
    "merged_df['anchor'] = merged_df[[col for col in score_columns if 'anchor' in col]].sum(axis=1)\n",
    "\n",
    "merged_df['best_dataset'] = merged_df[['lime', 'ciu', 'anchor']].idxmax(axis=1)\n",
    "\n",
    "selected_datasets = merged_df[['folder', 'best_dataset']]\n",
    "selected_datasets=selected_datasets.merge(df_meta, on='folder')\n",
    "selected_datasets = selected_datasets.drop(columns='folder')\n",
    "\n",
    "\n",
    "X = selected_datasets.drop(['best_dataset'], axis=1)\n",
    "y = selected_datasets['best_dataset']\n",
    "\n",
    "X_train, X_test, y_train, y_test = train_test_split(X, y, test_size=0.2, random_state=42)\n",
    "\n",
    "rf_classifier = RandomForestClassifier(random_state=42)\n",
    "rf_classifier.fit(X_train, y_train)\n",
    "\n",
    "y_pred = rf_classifier.predict(X_test)\n",
    "print(classification_report(y_test, y_pred))\n"
   ]
  },
  {
   "cell_type": "code",
   "execution_count": null,
   "id": "255c335f",
   "metadata": {},
   "outputs": [],
   "source": []
  },
  {
   "cell_type": "code",
   "execution_count": 6,
   "id": "73e33a02",
   "metadata": {},
   "outputs": [],
   "source": [
    "def predict_best_dataset(input_data):\n",
    "\n",
    "    input_df = pd.DataFrame([input_data])\n",
    "    input_df = input_df[X.columns]\n",
    "\n",
    "    prediction = rf_classifier.predict(input_df)\n",
    "\n",
    "    return prediction[0]"
   ]
  },
  {
   "cell_type": "code",
   "execution_count": 16,
   "id": "904d30e4",
   "metadata": {},
   "outputs": [
    {
     "name": "stdout",
     "output_type": "stream",
     "text": [
      "Predicted Best model for your cause, considering your dataset is ANCHOR\n"
     ]
    }
   ],
   "source": [
    "input_data = df_meta.drop(columns='folder').iloc[30].to_dict()\n",
    "input_data_formatted = {k: round(v, 2) for k, v in input_data.items()}\n",
    "input_data_formatted\n",
    "\n",
    "\n",
    "predicted_dataset = predict_best_dataset(input_data_formatted)\n",
    "print(\"Predicted Best model for your cause, considering your dataset is\", predicted_dataset.upper())"
   ]
  },
  {
   "cell_type": "code",
   "execution_count": 15,
   "id": "26d12054",
   "metadata": {},
   "outputs": [
    {
     "name": "stdout",
     "output_type": "stream",
     "text": [
      "Predicted Best model for your cause, considering your dataset is LIME\n"
     ]
    }
   ],
   "source": [
    "input_data = {'attr_to_inst': 0.74,\n",
    " 'cat_to_num': 0.1,\n",
    " 'freq_class.mean': 0.5,\n",
    " 'freq_class.sd': 0.44,\n",
    " 'inst_to_attr': 1,\n",
    " 'max.mean': 0.595,\n",
    " 'max.sd': 1.150,\n",
    " 'min.mean': -0.8,\n",
    " 'min.sd': 1.1,\n",
    " 'nr_cor_attr':10.1,\n",
    " 'nr_norm': 4.0,\n",
    " 'sd.mean': 0.40,\n",
    " 'sd.sd': 0.811}\n",
    "\n",
    "input_data_formatted = {k: round(v, 2) for k, v in input_data.items()}\n",
    "\n",
    "\n",
    "predicted_dataset = predict_best_dataset(input_data_formatted)\n",
    "print(\"Predicted Best model for your cause, considering your dataset is\", predicted_dataset.upper())"
   ]
  },
  {
   "cell_type": "code",
   "execution_count": null,
   "id": "b59e7a8b",
   "metadata": {},
   "outputs": [],
   "source": []
  },
  {
   "cell_type": "code",
   "execution_count": null,
   "id": "8cbbed71",
   "metadata": {},
   "outputs": [],
   "source": []
  }
 ],
 "metadata": {
  "kernelspec": {
   "display_name": "Python 3 (ipykernel)",
   "language": "python",
   "name": "python3"
  },
  "language_info": {
   "codemirror_mode": {
    "name": "ipython",
    "version": 3
   },
   "file_extension": ".py",
   "mimetype": "text/x-python",
   "name": "python",
   "nbconvert_exporter": "python",
   "pygments_lexer": "ipython3",
   "version": "3.8.16"
  }
 },
 "nbformat": 4,
 "nbformat_minor": 5
}
