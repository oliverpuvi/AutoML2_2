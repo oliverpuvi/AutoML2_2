{
 "cells": [
  {
   "cell_type": "code",
   "execution_count": null,
   "id": "7cf6d715",
   "metadata": {},
   "outputs": [],
   "source": [
    "'''\n",
    "https://docs.openml.org/benchmark/\n",
    "\n",
    "The OpenML100 was a predecessor of the OpenML-CC18, consisting of 100 classification datasets. \n",
    "We recommend that you use the OpenML-CC18 instead, \n",
    "because the OpenML100 suffers from some teething issues in the design of benchmark suites.\n",
    "'''"
   ]
  },
  {
   "cell_type": "code",
   "execution_count": 1,
   "id": "5046c659",
   "metadata": {},
   "outputs": [],
   "source": [
    "from sklearn.impute import SimpleImputer\n",
    "from sklearn.tree import DecisionTreeClassifier\n",
    "import openml\n",
    "import warnings\n",
    "from sklearn.tree import DecisionTreeClassifier\n",
    "from sklearn.model_selection import cross_val_score\n",
    "from sklearn.preprocessing import StandardScaler\n",
    "from sklearn.pipeline import Pipeline\n",
    "from sklearn.compose import ColumnTransformer\n",
    "from sklearn.preprocessing import OneHotEncoder\n",
    "import numpy as np\n",
    "\n",
    "warnings.filterwarnings('ignore')\n"
   ]
  },
  {
   "cell_type": "code",
   "execution_count": 2,
   "id": "e0538aec",
   "metadata": {
    "scrolled": false
   },
   "outputs": [
    {
     "name": "stdout",
     "output_type": "stream",
     "text": [
      "Dataset ID: 3, Number of Instances: 3196, Number of Features: 36\n",
      "Dataset ID: 6, Number of Instances: 20000, Number of Features: 16\n",
      "Dataset ID: 11, Number of Instances: 625, Number of Features: 4\n",
      "Dataset ID: 12, Number of Instances: 2000, Number of Features: 216\n",
      "Dataset ID: 14, Number of Instances: 2000, Number of Features: 76\n",
      "Dataset ID: 15, Number of Instances: 699, Number of Features: 9\n",
      "Dataset ID: 16, Number of Instances: 2000, Number of Features: 64\n",
      "Dataset ID: 18, Number of Instances: 2000, Number of Features: 6\n",
      "Dataset ID: 22, Number of Instances: 2000, Number of Features: 47\n",
      "Dataset ID: 23, Number of Instances: 1473, Number of Features: 9\n",
      "Dataset ID: 28, Number of Instances: 5620, Number of Features: 64\n",
      "Dataset ID: 29, Number of Instances: 690, Number of Features: 15\n",
      "Dataset ID: 31, Number of Instances: 1000, Number of Features: 20\n",
      "Dataset ID: 32, Number of Instances: 10992, Number of Features: 16\n",
      "Dataset ID: 37, Number of Instances: 768, Number of Features: 8\n",
      "Dataset ID: 44, Number of Instances: 4601, Number of Features: 57\n",
      "Dataset ID: 46, Number of Instances: 3190, Number of Features: 60\n",
      "Dataset ID: 50, Number of Instances: 958, Number of Features: 9\n",
      "Dataset ID: 54, Number of Instances: 846, Number of Features: 18\n",
      "Dataset ID: 151, Number of Instances: 45312, Number of Features: 8\n",
      "Dataset ID: 182, Number of Instances: 6430, Number of Features: 36\n",
      "Dataset ID: 188, Number of Instances: 736, Number of Features: 19\n",
      "Dataset ID: 38, Number of Instances: 3772, Number of Features: 29\n",
      "Dataset ID: 307, Number of Instances: 990, Number of Features: 12\n",
      "Dataset ID: 300, Number of Instances: 7797, Number of Features: 617\n",
      "Dataset ID: 458, Number of Instances: 841, Number of Features: 70\n",
      "Dataset ID: 469, Number of Instances: 797, Number of Features: 4\n",
      "Dataset ID: 554, Number of Instances: 70000, Number of Features: 784\n",
      "Dataset ID: 1049, Number of Instances: 1458, Number of Features: 37\n",
      "Dataset ID: 1050, Number of Instances: 1563, Number of Features: 37\n",
      "Dataset ID: 1053, Number of Instances: 10885, Number of Features: 21\n",
      "Dataset ID: 1063, Number of Instances: 522, Number of Features: 21\n",
      "Dataset ID: 1067, Number of Instances: 2109, Number of Features: 21\n",
      "Dataset ID: 1068, Number of Instances: 1109, Number of Features: 21\n",
      "Dataset ID: 1590, Number of Instances: 48842, Number of Features: 14\n",
      "Dataset ID: 4134, Number of Instances: 3751, Number of Features: 1776\n",
      "Dataset ID: 1510, Number of Instances: 569, Number of Features: 30\n",
      "Dataset ID: 1489, Number of Instances: 5404, Number of Features: 5\n",
      "Dataset ID: 1494, Number of Instances: 1055, Number of Features: 41\n",
      "Dataset ID: 1497, Number of Instances: 5456, Number of Features: 24\n",
      "Dataset ID: 1501, Number of Instances: 1593, Number of Features: 256\n",
      "Dataset ID: 1480, Number of Instances: 583, Number of Features: 10\n",
      "Dataset ID: 1485, Number of Instances: 2600, Number of Features: 500\n",
      "Dataset ID: 1486, Number of Instances: 34465, Number of Features: 118\n",
      "Dataset ID: 1487, Number of Instances: 2534, Number of Features: 72\n",
      "Dataset ID: 1468, Number of Instances: 1080, Number of Features: 856\n",
      "Dataset ID: 1475, Number of Instances: 6118, Number of Features: 51\n",
      "Dataset ID: 1462, Number of Instances: 1372, Number of Features: 4\n",
      "Dataset ID: 1464, Number of Instances: 748, Number of Features: 4\n",
      "Dataset ID: 4534, Number of Instances: 11055, Number of Features: 30\n"
     ]
    },
    {
     "name": "stderr",
     "output_type": "stream",
     "text": [
      "WARNING:openml.datasets.functions:Could not download file from http://openml1.win.tue.nl/dataset6332/dataset_6332.pq: Bucket does not exist or is private.\n",
      "WARNING:openml.datasets.functions:Failed to download parquet, fallback on ARFF.\n"
     ]
    },
    {
     "name": "stdout",
     "output_type": "stream",
     "text": [
      "Dataset ID: 6332, Number of Instances: 540, Number of Features: 37\n",
      "Dataset ID: 1461, Number of Instances: 45211, Number of Features: 16\n",
      "Dataset ID: 4538, Number of Instances: 9873, Number of Features: 32\n",
      "Dataset ID: 1478, Number of Instances: 10299, Number of Features: 561\n",
      "Dataset ID: 23381, Number of Instances: 500, Number of Features: 12\n",
      "Dataset ID: 40499, Number of Instances: 5500, Number of Features: 40\n",
      "Dataset ID: 40668, Number of Instances: 67557, Number of Features: 42\n"
     ]
    },
    {
     "name": "stderr",
     "output_type": "stream",
     "text": [
      "WARNING:openml.datasets.functions:Could not download file from http://openml1.win.tue.nl/dataset40966/dataset_40966.pq: Bucket does not exist or is private.\n",
      "WARNING:openml.datasets.functions:Failed to download parquet, fallback on ARFF.\n"
     ]
    },
    {
     "name": "stdout",
     "output_type": "stream",
     "text": [
      "Dataset ID: 40966, Number of Instances: 1080, Number of Features: 77\n",
      "Dataset ID: 40982, Number of Instances: 1941, Number of Features: 27\n"
     ]
    },
    {
     "name": "stderr",
     "output_type": "stream",
     "text": [
      "WARNING:openml.datasets.functions:Could not download file from http://openml1.win.tue.nl/dataset40994/dataset_40994.pq: Bucket does not exist or is private.\n",
      "WARNING:openml.datasets.functions:Failed to download parquet, fallback on ARFF.\n"
     ]
    },
    {
     "name": "stdout",
     "output_type": "stream",
     "text": [
      "Dataset ID: 40994, Number of Instances: 540, Number of Features: 18\n",
      "Dataset ID: 40983, Number of Instances: 4839, Number of Features: 5\n",
      "Dataset ID: 40975, Number of Instances: 1728, Number of Features: 6\n",
      "Dataset ID: 40984, Number of Instances: 2310, Number of Features: 16\n",
      "Dataset ID: 40979, Number of Instances: 2000, Number of Features: 240\n",
      "Dataset ID: 40996, Number of Instances: 70000, Number of Features: 784\n",
      "Dataset ID: 41027, Number of Instances: 44819, Number of Features: 6\n",
      "Dataset ID: 23517, Number of Instances: 96320, Number of Features: 21\n",
      "Dataset ID: 40923, Number of Instances: 92000, Number of Features: 1024\n",
      "Dataset ID: 40927, Number of Instances: 60000, Number of Features: 3072\n",
      "Dataset ID: 40978, Number of Instances: 3279, Number of Features: 1558\n",
      "Dataset ID: 40670, Number of Instances: 3186, Number of Features: 180\n",
      "Dataset ID: 40701, Number of Instances: 5000, Number of Features: 20\n"
     ]
    }
   ],
   "source": [
    "benchmark_suite = openml.study.get_suite('OpenML-CC18')\n",
    "\n",
    "\n",
    "benchmark_suite = openml.study.get_suite('OpenML-CC18')\n",
    "\n",
    "\n",
    "for dataset_id in benchmark_suite.data:\n",
    "    dataset = openml.datasets.get_dataset(dataset_id)\n",
    "    X, y, categorical_indicator, attribute_names = dataset.get_data(\n",
    "        target=dataset.default_target_attribute\n",
    "    )\n",
    "    \n",
    "    print(f\"Dataset ID: {dataset_id}, Number of Instances: {X.shape[0]}, Number of Features: {X.shape[1]}\")\n",
    "\n"
   ]
  },
  {
   "cell_type": "code",
   "execution_count": 3,
   "id": "157538f5",
   "metadata": {},
   "outputs": [
    {
     "name": "stdout",
     "output_type": "stream",
     "text": [
      "Dataset ID: 3, Cross-Validation Accuracy: 0.980\n",
      "Dataset ID: 6, Cross-Validation Accuracy: 0.875\n",
      "Dataset ID: 11, Cross-Validation Accuracy: 0.589\n",
      "Dataset ID: 12, Cross-Validation Accuracy: 0.879\n",
      "Dataset ID: 14, Cross-Validation Accuracy: 0.733\n",
      "Dataset ID: 15, Cross-Validation Accuracy: 0.934\n",
      "Dataset ID: 16, Cross-Validation Accuracy: 0.804\n",
      "Dataset ID: 18, Cross-Validation Accuracy: 0.653\n",
      "Dataset ID: 22, Cross-Validation Accuracy: 0.659\n",
      "Dataset ID: 23, Cross-Validation Accuracy: 0.482\n",
      "Dataset ID: 28, Cross-Validation Accuracy: 0.888\n",
      "Dataset ID: 29, Cross-Validation Accuracy: 0.794\n",
      "Dataset ID: 31, Cross-Validation Accuracy: 0.699\n",
      "Dataset ID: 32, Cross-Validation Accuracy: 0.958\n",
      "Dataset ID: 37, Cross-Validation Accuracy: 0.705\n",
      "Dataset ID: 44, Cross-Validation Accuracy: 0.885\n",
      "Dataset ID: 46, Cross-Validation Accuracy: 0.918\n",
      "Dataset ID: 50, Cross-Validation Accuracy: 0.792\n",
      "Dataset ID: 54, Cross-Validation Accuracy: 0.710\n",
      "Dataset ID: 151, Cross-Validation Accuracy: 0.672\n",
      "Dataset ID: 182, Cross-Validation Accuracy: 0.849\n",
      "Dataset ID: 188, Cross-Validation Accuracy: 0.508\n",
      "Dataset ID: 38, Cross-Validation Accuracy: 0.983\n",
      "Dataset ID: 307, Cross-Validation Accuracy: 0.480\n",
      "Dataset ID: 300, Cross-Validation Accuracy: 0.791\n",
      "Dataset ID: 458, Cross-Validation Accuracy: 0.840\n",
      "Dataset ID: 469, Cross-Validation Accuracy: 0.177\n",
      "Dataset ID: 554, Cross-Validation Accuracy: 0.871\n",
      "Dataset ID: 1049, Cross-Validation Accuracy: 0.881\n",
      "Dataset ID: 1050, Cross-Validation Accuracy: 0.851\n",
      "Dataset ID: 1053, Cross-Validation Accuracy: 0.716\n",
      "Dataset ID: 1063, Cross-Validation Accuracy: 0.738\n",
      "Dataset ID: 1067, Cross-Validation Accuracy: 0.766\n",
      "Dataset ID: 1068, Cross-Validation Accuracy: 0.866\n",
      "Dataset ID: 1590, Cross-Validation Accuracy: 0.816\n",
      "Dataset ID: 4134, Cross-Validation Accuracy: 0.724\n",
      "Dataset ID: 1510, Cross-Validation Accuracy: 0.914\n",
      "Dataset ID: 1489, Cross-Validation Accuracy: 0.868\n",
      "Dataset ID: 1494, Cross-Validation Accuracy: 0.801\n",
      "Dataset ID: 1497, Cross-Validation Accuracy: 0.981\n",
      "Dataset ID: 1501, Cross-Validation Accuracy: 0.749\n",
      "Dataset ID: 1480, Cross-Validation Accuracy: 0.659\n",
      "Dataset ID: 1485, Cross-Validation Accuracy: 0.737\n",
      "Dataset ID: 1486, Cross-Validation Accuracy: 0.910\n",
      "Dataset ID: 1487, Cross-Validation Accuracy: 0.901\n",
      "Dataset ID: 1468, Cross-Validation Accuracy: 0.872\n",
      "Dataset ID: 1475, Cross-Validation Accuracy: 0.508\n",
      "Dataset ID: 1462, Cross-Validation Accuracy: 0.982\n",
      "Dataset ID: 1464, Cross-Validation Accuracy: 0.622\n",
      "Dataset ID: 4534, Cross-Validation Accuracy: 0.955\n"
     ]
    },
    {
     "name": "stderr",
     "output_type": "stream",
     "text": [
      "WARNING:openml.datasets.functions:Could not download file from http://openml1.win.tue.nl/dataset6332/dataset_6332.pq: Bucket does not exist or is private.\n",
      "WARNING:openml.datasets.functions:Failed to download parquet, fallback on ARFF.\n"
     ]
    },
    {
     "name": "stdout",
     "output_type": "stream",
     "text": [
      "Dataset ID: 6332, Cross-Validation Accuracy: 0.530\n",
      "Dataset ID: 1461, Cross-Validation Accuracy: 0.562\n",
      "Dataset ID: 4538, Cross-Validation Accuracy: 0.365\n",
      "Dataset ID: 1478, Cross-Validation Accuracy: 0.872\n",
      "Dataset ID: 23381, Cross-Validation Accuracy: 0.516\n",
      "Dataset ID: 40499, Cross-Validation Accuracy: 0.925\n",
      "Dataset ID: 40668, Cross-Validation Accuracy: 0.563\n"
     ]
    },
    {
     "name": "stderr",
     "output_type": "stream",
     "text": [
      "WARNING:openml.datasets.functions:Could not download file from http://openml1.win.tue.nl/dataset40966/dataset_40966.pq: Bucket does not exist or is private.\n",
      "WARNING:openml.datasets.functions:Failed to download parquet, fallback on ARFF.\n"
     ]
    },
    {
     "name": "stdout",
     "output_type": "stream",
     "text": [
      "Dataset ID: 40966, Cross-Validation Accuracy: 0.472\n",
      "Dataset ID: 40982, Cross-Validation Accuracy: 0.533\n"
     ]
    },
    {
     "name": "stderr",
     "output_type": "stream",
     "text": [
      "WARNING:openml.datasets.functions:Could not download file from http://openml1.win.tue.nl/dataset40994/dataset_40994.pq: Bucket does not exist or is private.\n",
      "WARNING:openml.datasets.functions:Failed to download parquet, fallback on ARFF.\n"
     ]
    },
    {
     "name": "stdout",
     "output_type": "stream",
     "text": [
      "Dataset ID: 40994, Cross-Validation Accuracy: 0.906\n",
      "Dataset ID: 40983, Cross-Validation Accuracy: 0.976\n",
      "Dataset ID: 40975, Cross-Validation Accuracy: 0.734\n",
      "Dataset ID: 40984, Cross-Validation Accuracy: 0.903\n",
      "Dataset ID: 40979, Cross-Validation Accuracy: 0.874\n",
      "Dataset ID: 40996, Cross-Validation Accuracy: 0.794\n",
      "Dataset ID: 41027, Cross-Validation Accuracy: 0.634\n",
      "Dataset ID: 23517, Cross-Validation Accuracy: 0.505\n",
      "Dataset ID: 40923, Cross-Validation Accuracy: 0.433\n",
      "Dataset ID: 40927, Cross-Validation Accuracy: 0.263\n",
      "Dataset ID: 40978, Cross-Validation Accuracy: 0.948\n",
      "Dataset ID: 40670, Cross-Validation Accuracy: 0.906\n",
      "Dataset ID: 40701, Cross-Validation Accuracy: 0.916\n"
     ]
    }
   ],
   "source": [
    "\n",
    "numeric_transformer = Pipeline(steps=[\n",
    "    ('imputer', SimpleImputer(strategy='mean')),\n",
    "    ('scaler', StandardScaler())])\n",
    "\n",
    "categorical_transformer = Pipeline(steps=[\n",
    "    ('imputer', SimpleImputer(strategy='most_frequent')),\n",
    "    ('onehot', OneHotEncoder(handle_unknown='ignore'))])\n",
    "\n",
    "for dataset_id in benchmark_suite.data:\n",
    "    dataset = openml.datasets.get_dataset(dataset_id)\n",
    "    X, y, categorical_indicator, attribute_names = dataset.get_data(\n",
    "        target=dataset.default_target_attribute\n",
    "    )\n",
    "\n",
    "    categorical_indicator = np.array(categorical_indicator)\n",
    "\n",
    "    preprocessor = ColumnTransformer(\n",
    "        transformers=[\n",
    "            ('num', numeric_transformer, ~categorical_indicator),\n",
    "            ('cat', categorical_transformer, categorical_indicator)\n",
    "        ])\n",
    "\n",
    "    clf = Pipeline(steps=[('preprocessor', preprocessor),\n",
    "                          ('classifier', DecisionTreeClassifier())])\n",
    "\n",
    "    scores = cross_val_score(clf, X, y, cv=5)\n",
    "    print(f\"Dataset ID: {dataset_id}, Cross-Validation Accuracy: {scores.mean():.3f}\")\n",
    "\n"
   ]
  }
 ],
 "metadata": {
  "kernelspec": {
   "display_name": "Python 3 (ipykernel)",
   "language": "python",
   "name": "python3"
  },
  "language_info": {
   "codemirror_mode": {
    "name": "ipython",
    "version": 3
   },
   "file_extension": ".py",
   "mimetype": "text/x-python",
   "name": "python",
   "nbconvert_exporter": "python",
   "pygments_lexer": "ipython3",
   "version": "3.8.16"
  }
 },
 "nbformat": 4,
 "nbformat_minor": 5
}
